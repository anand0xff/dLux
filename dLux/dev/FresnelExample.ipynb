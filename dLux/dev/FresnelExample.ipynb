{
 "cells": [
  {
   "cell_type": "markdown",
   "id": "7580b541",
   "metadata": {},
   "source": [
    "# Fresnel Wavefront\n",
    "The `dLux` module offers fully fledged Fresnel optics capabilities based on those in `poppy`. This example shows of how to use the related capabilities."
   ]
  },
  {
   "cell_type": "code",
   "execution_count": 1,
   "id": "a2c51e54",
   "metadata": {},
   "outputs": [
    {
     "name": "stderr",
     "output_type": "stream",
     "text": [
      "WARNING:absl:No GPU/TPU found, falling back to CPU. (Set TF_CPP_MIN_LOG_LEVEL=0 and rerun for more info.)\n"
     ]
    }
   ],
   "source": [
    "from dLux import GaussianWavefront, GaussianPropagator\n",
    "from dLux import CircularAperture as DCircularAperture\n",
    "from poppy import FresnelWavefront\n",
    "from poppy import CircularAperture as PCircularAperture\n",
    "from matplotlib import pyplot\n",
    "from astropy.units import meter"
   ]
  },
  {
   "cell_type": "markdown",
   "id": "60dd079c",
   "metadata": {},
   "source": [
    "The first thing to notice is that in `dLux` the `Wavefront` is essentially split over two classes. The reason for this is that the autodiff package we use, `equinox` works by differentiating with respect to class attributes. While we could mix autodiff implementations and use `jax.grad` to take derivatives with respect to function arguments a uniform interface was considered better. \n",
    "\n",
    "As a result a `GaussianPropagator` is instantiated whenever we want to take a derivative with respect to a `distance` which is stored as an attribute of the propagator. This means that one `Wavefront` may pass through many propagators. \n",
    "\n",
    "A general principle of `dLux` is to abstract mathematically as well as physically, so that the development of physically informed neural network models is easy. The way that this works is the `GaussianPropagator` essentially acts as a differentiable network layer. "
   ]
  },
  {
   "cell_type": "markdown",
   "id": "bfed7703",
   "metadata": {},
   "source": [
    "Let's start by using poppy to Fresnel propagate a wavefront through a circular aperture. The parameters I use here come from [this](https://github.com/spacetelescope/poppy/blob/develop/notebooks/Fresnel_Propagation_Demo.ipynb) `poppy` example notebook."
   ]
  },
  {
   "cell_type": "code",
   "execution_count": 2,
   "id": "769b3811",
   "metadata": {},
   "outputs": [],
   "source": [
    "p_wavefront = FresnelWavefront(0.5 * meter, wavelength=2200e-9, npix=1008, oversample=4)"
   ]
  },
  {
   "cell_type": "code",
   "execution_count": 3,
   "id": "049e0e40",
   "metadata": {},
   "outputs": [],
   "source": [
    "p_wavefront *= PCircularAperture(radius=0.5) \n",
    "p_wavefront.propagate_fresnel(5000 * meter)"
   ]
  },
  {
   "cell_type": "code",
   "execution_count": null,
   "id": "e4742d3e",
   "metadata": {},
   "outputs": [],
   "source": [
    "pyplot.figure(figsize=(10, 5))\n",
    "p_wavefront.display(\"both\", colorbar=True, showpadding=True)\n",
    "pyplot.show()"
   ]
  },
  {
   "cell_type": "markdown",
   "id": "39923b73",
   "metadata": {},
   "source": [
    "Now let's replicate that using `dLux` and it's propagators. Now internally `dLux` nests `PyTree`s and this is something that I am really looking to remove in future versions. But for now we wrap the wavefront in a dictionary to pass it between layers. \n",
    "\n",
    "Another feature(?) of `dLux` at this level is that a lot less is hidden. At present there is another legacy feature the `CreateWavefront` `Layer` that doubles as a costructor for the `Wavefront`. This is also likely to change in future versions as `Source` and `Scene` classes are created. \n",
    "\n",
    "This means that the only parameters required to create the wavefront are `offset` and `wavelength`. The offset is the tilt of the wavefront with respect to the plane of (in this case) the aperture, and has angular units. \n",
    "\n",
    "A major difference between `dLux` and `poppy` is that `dLux` doesn't care about units. Everything is in SI units anything else and the code will return incorrect results. This means that all angles are in radians and all distances are in meters with very few exceptions. \n",
    "\n",
    "The code is documented with the units so run `help(dLux.Class.method)` to see the units of the parameters. For example, `width : float, meters`, specifies first the type and then the units. "
   ]
  },
  {
   "cell_type": "code",
   "execution_count": null,
   "id": "a13cbe9e",
   "metadata": {},
   "outputs": [],
   "source": [
    "import dLux"
   ]
  },
  {
   "cell_type": "code",
   "execution_count": null,
   "id": "10395c0f",
   "metadata": {},
   "outputs": [],
   "source": [
    "npix = 1008\n",
    "radius = 0.5\n",
    "offset = [0., 0.]\n",
    "wavelength = 2200e-07\n",
    "distance = 0.5"
   ]
  },
  {
   "cell_type": "code",
   "execution_count": null,
   "id": "bc5ee10d",
   "metadata": {},
   "outputs": [],
   "source": [
    "wavefront = dLux.GaussianWavefront(offset, wavelength, radius)"
   ]
  },
  {
   "cell_type": "code",
   "execution_count": null,
   "id": "301e43b1",
   "metadata": {},
   "outputs": [],
   "source": [
    "wavefront.get_phase_radius()"
   ]
  },
  {
   "cell_type": "code",
   "execution_count": null,
   "id": "6191b1b7",
   "metadata": {},
   "outputs": [],
   "source": [
    "p_wavefront.r_c()"
   ]
  },
  {
   "cell_type": "code",
   "execution_count": null,
   "id": "a72c7b4b",
   "metadata": {},
   "outputs": [],
   "source": [
    "wavefront.get_beam_radius()"
   ]
  },
  {
   "cell_type": "code",
   "execution_count": null,
   "id": "453a93cf",
   "metadata": {},
   "outputs": [],
   "source": [
    "p_wavefront.spot_radius()"
   ]
  },
  {
   "cell_type": "code",
   "execution_count": null,
   "id": "5d589d0c",
   "metadata": {},
   "outputs": [],
   "source": [
    "wavefront.waist_radius()"
   ]
  },
  {
   "cell_type": "code",
   "execution_count": null,
   "id": "884bfcbc",
   "metadata": {},
   "outputs": [],
   "source": [
    "p_wavefront.w_0"
   ]
  },
  {
   "cell_type": "code",
   "execution_count": null,
   "id": "377c9130",
   "metadata": {},
   "outputs": [],
   "source": [
    "wavefront.rayleigh_distance()"
   ]
  },
  {
   "cell_type": "code",
   "execution_count": null,
   "id": "1cbbe508",
   "metadata": {},
   "outputs": [],
   "source": [
    "wavefront.location_of_waist"
   ]
  },
  {
   "cell_type": "code",
   "execution_count": null,
   "id": "48e76a36",
   "metadata": {},
   "outputs": [],
   "source": [
    "wavefront = dLux.CreateWavefront(npix, radius * 2)({\"Wavefront\" : wavefront})[\"Wavefront\"]"
   ]
  },
  {
   "cell_type": "code",
   "execution_count": null,
   "id": "fba0bd8c",
   "metadata": {},
   "outputs": [],
   "source": [
    "wavefront = wavefront.paraxial_interpolate(radius / npix / 4, npix * 4)"
   ]
  },
  {
   "cell_type": "code",
   "execution_count": null,
   "id": "3cdddf2e",
   "metadata": {},
   "outputs": [],
   "source": [
    "wavefront = dLux.CircularAperture(4 * npix)({\"Wavefront\" : wavefront})[\"Wavefront\"]"
   ]
  },
  {
   "cell_type": "code",
   "execution_count": null,
   "id": "5e429c77",
   "metadata": {},
   "outputs": [],
   "source": [
    "test = dLux.GaussianPropagator(5000.)({\"Wavefront\" : wavefront})[\"Wavefront\"]"
   ]
  },
  {
   "cell_type": "code",
   "execution_count": null,
   "id": "0849febe",
   "metadata": {
    "scrolled": true
   },
   "outputs": [],
   "source": [
    "pyplot.imshow(test.phase)"
   ]
  },
  {
   "cell_type": "markdown",
   "id": "5fcb1b81",
   "metadata": {},
   "source": [
    "So I need to add support for oversampling and I need to make sure that the phase radius is getting calculated at the correct points. \n",
    "\n",
    "Do I need to use the phase radius at from or at to?"
   ]
  },
  {
   "cell_type": "code",
   "execution_count": null,
   "id": "422d3065",
   "metadata": {},
   "outputs": [],
   "source": [
    "help(dLux.GaussianWavefront)"
   ]
  },
  {
   "cell_type": "code",
   "execution_count": null,
   "id": "703aca1b",
   "metadata": {},
   "outputs": [],
   "source": [
    "wavefront = dLux.GaussianPropagator(distance)(\n",
    "    dLux.CircularAperture(npix)(\n",
    "        dLux.CreateWavefront(npix, 2 * radius)(\n",
    "            {\"Wavefront\" : wavefront})))[\"Wavefront\"]"
   ]
  },
  {
   "cell_type": "code",
   "execution_count": null,
   "id": "c98ddcca",
   "metadata": {},
   "outputs": [],
   "source": [
    "pyplot.figure(figsize=(8, 8))\n",
    "pyplot.imshow(wavefront.amplitude)\n",
    "pyplot.colorbar()"
   ]
  },
  {
   "cell_type": "code",
   "execution_count": null,
   "id": "1ab94468",
   "metadata": {},
   "outputs": [],
   "source": [
    "help(GaussianPropagator)"
   ]
  },
  {
   "cell_type": "code",
   "execution_count": null,
   "id": "6198b584",
   "metadata": {},
   "outputs": [],
   "source": []
  }
 ],
 "metadata": {
  "kernelspec": {
   "display_name": "Python (dLux)",
   "language": "python",
   "name": "dlux"
  },
  "language_info": {
   "codemirror_mode": {
    "name": "ipython",
    "version": 3
   },
   "file_extension": ".py",
   "mimetype": "text/x-python",
   "name": "python",
   "nbconvert_exporter": "python",
   "pygments_lexer": "ipython3",
   "version": "3.10.4"
  }
 },
 "nbformat": 4,
 "nbformat_minor": 5
}
