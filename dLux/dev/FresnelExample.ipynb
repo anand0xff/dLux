{
 "cells": [
  {
   "cell_type": "markdown",
   "id": "7580b541",
   "metadata": {},
   "source": [
    "# Fresnel Wavefront\n",
    "The `dLux` module offers fully fledged Fresnel optics capabilities based on those in `poppy`. This example shows of how to use the related capabilities."
   ]
  },
  {
   "cell_type": "code",
   "execution_count": 1,
   "id": "a2c51e54",
   "metadata": {},
   "outputs": [],
   "source": [
    "from poppy import FresnelWavefront\n",
    "from poppy import CircularAperture as PCircularAperture\n",
    "from matplotlib import pyplot\n",
    "from astropy.units import meter\n",
    "from astropy import units as u\n",
    "from poppy import accel_math"
   ]
  },
  {
   "cell_type": "markdown",
   "id": "60dd079c",
   "metadata": {},
   "source": [
    "The first thing to notice is that in `dLux` the `Wavefront` is essentially split over two classes. The reason for this is that the autodiff package we use, `equinox` works by differentiating with respect to class attributes. While we could mix autodiff implementations and use `jax.grad` to take derivatives with respect to function arguments a uniform interface was considered better. \n",
    "\n",
    "As a result a `GaussianPropagator` is instantiated whenever we want to take a derivative with respect to a `distance` which is stored as an attribute of the propagator. This means that one `Wavefront` may pass through many propagators. \n",
    "\n",
    "A general principle of `dLux` is to abstract mathematically as well as physically, so that the development of physically informed neural network models is easy. The way that this works is the `GaussianPropagator` essentially acts as a differentiable network layer. "
   ]
  },
  {
   "cell_type": "markdown",
   "id": "bfed7703",
   "metadata": {},
   "source": [
    "Let's start by using poppy to Fresnel propagate a wavefront through a circular aperture. The parameters I use here come from [this](https://github.com/spacetelescope/poppy/blob/develop/notebooks/Fresnel_Propagation_Demo.ipynb) `poppy` example notebook."
   ]
  },
  {
   "cell_type": "code",
   "execution_count": 2,
   "id": "769b3811",
   "metadata": {},
   "outputs": [],
   "source": [
    "p_wavefront = FresnelWavefront(0.5 * meter, wavelength=2200e-9, npix=256, \n",
    "                               oversample=4)\n",
    "\n",
    "p_wavefront *= PCircularAperture(radius=0.5) \n",
    "\n",
    "# These two seem to match. Note there is no normalisation or shift. \n",
    "# p_wavefront._fft() \n",
    "# field = np.fft.ifft2(p_wavefront.wavefront)"
   ]
  },
  {
   "cell_type": "markdown",
   "id": "39923b73",
   "metadata": {},
   "source": [
    "Now let's replicate that using `dLux` and it's propagators. Now internally `dLux` nests `PyTree`s and this is something that I am really looking to remove in future versions. But for now we wrap the wavefront in a dictionary to pass it between layers. \n",
    "\n",
    "Another feature(?) of `dLux` at this level is that a lot less is hidden. At present there is another legacy feature the `CreateWavefront` `Layer` that doubles as a costructor for the `Wavefront`. This is also likely to change in future versions as `Source` and `Scene` classes are created. \n",
    "\n",
    "This means that the only parameters required to create the wavefront are `offset` and `wavelength`. The offset is the tilt of the wavefront with respect to the plane of (in this case) the aperture, and has angular units. \n",
    "\n",
    "A major difference between `dLux` and `poppy` is that `dLux` doesn't care about units. Everything is in SI units anything else and the code will return incorrect results. This means that all angles are in radians and all distances are in meters with very few exceptions. \n",
    "\n",
    "The code is documented with the units so run `help(dLux.Class.method)` to see the units of the parameters. For example, `width : float, meters`, specifies first the type and then the units. "
   ]
  },
  {
   "cell_type": "code",
   "execution_count": 3,
   "id": "a13cbe9e",
   "metadata": {
    "scrolled": true
   },
   "outputs": [
    {
     "name": "stderr",
     "output_type": "stream",
     "text": [
      "WARNING:absl:No GPU/TPU found, falling back to CPU. (Set TF_CPP_MIN_LOG_LEVEL=0 and rerun for more info.)\n"
     ]
    },
    {
     "ename": "SyntaxError",
     "evalue": "invalid syntax (fresnel.py, line 329)",
     "output_type": "error",
     "traceback": [
      "Traceback \u001b[0;36m(most recent call last)\u001b[0m:\n",
      "  File \u001b[1;32m~/anaconda3/envs/dLux/lib/python3.10/site-packages/IPython/core/interactiveshell.py:3398\u001b[0m in \u001b[1;35mrun_code\u001b[0m\n    exec(code_obj, self.user_global_ns, self.user_ns)\n",
      "\u001b[0;36m  Input \u001b[0;32mIn [3]\u001b[0;36m in \u001b[0;35m<cell line: 2>\u001b[0;36m\u001b[0m\n\u001b[0;31m    from fresnel import GaussianPropagator, GaussianWavefront\u001b[0m\n",
      "\u001b[0;36m  File \u001b[0;32m~/Documents/dLux/dLux/dev/fresnel.py:329\u001b[0;36m\u001b[0m\n\u001b[0;31m    def true(wave : Wavefront) -> Wavefront:\u001b[0m\n\u001b[0m    ^\u001b[0m\n\u001b[0;31mSyntaxError\u001b[0m\u001b[0;31m:\u001b[0m invalid syntax\n"
     ]
    }
   ],
   "source": [
    "import dLux\n",
    "from fresnel import GaussianPropagator, GaussianWavefront\n",
    "from matplotlib import pyplot\n",
    "from jax.config import config\n",
    "from jax import numpy as np"
   ]
  },
  {
   "cell_type": "code",
   "execution_count": 13,
   "id": "15f092e9",
   "metadata": {},
   "outputs": [
    {
     "data": {
      "text/plain": [
       "(1, 2)"
      ]
     },
     "execution_count": 13,
     "metadata": {},
     "output_type": "execute_result"
    }
   ],
   "source": []
  },
  {
   "cell_type": "code",
   "execution_count": null,
   "id": "8e2eba9d",
   "metadata": {},
   "outputs": [],
   "source": [
    "config.update(\"jax_debug_nans\", True)\n",
    "config.update(\"jax_enable_x64\", True)"
   ]
  },
  {
   "cell_type": "code",
   "execution_count": null,
   "id": "10395c0f",
   "metadata": {},
   "outputs": [],
   "source": [
    "npix = 256 * 4\n",
    "radius = 0.5 * 4\n",
    "offset = [0., 0.]\n",
    "wavelength = 2200e-09\n",
    "distance = 0.5"
   ]
  },
  {
   "cell_type": "markdown",
   "id": "16a061e8",
   "metadata": {},
   "source": [
    "There is a bug in the pixel position centring that needs to be fixed. "
   ]
  },
  {
   "cell_type": "code",
   "execution_count": null,
   "id": "b1d52493",
   "metadata": {},
   "outputs": [],
   "source": [
    "field = p_wavefront.wavefront"
   ]
  },
  {
   "cell_type": "code",
   "execution_count": null,
   "id": "bc5ee10d",
   "metadata": {},
   "outputs": [],
   "source": [
    "wavefront = GaussianWavefront(offset, wavelength, radius)\\\n",
    "    .update_phasor(np.abs(field), np.angle(field))\\\n",
    "    .set_pixel_scale(2 * radius / npix)\\\n",
    "    .position_after(-5000.)"
   ]
  },
  {
   "cell_type": "code",
   "execution_count": null,
   "id": "88218f5d",
   "metadata": {},
   "outputs": [],
   "source": [
    "field = wavefront.get_complex_form()"
   ]
  },
  {
   "cell_type": "code",
   "execution_count": null,
   "id": "b9a9c201",
   "metadata": {
    "scrolled": false
   },
   "outputs": [],
   "source": [
    "pyplot.figure(figsize=(12, 12))\n",
    "pyplot.subplot(3, 2, 1)\n",
    "pyplot.title(\"dLux amplitude\")\n",
    "pyplot.imshow(np.abs(field))\n",
    "pyplot.colorbar()\n",
    "\n",
    "pyplot.subplot(3, 2, 2)\n",
    "pyplot.title(\"dLux phase\")\n",
    "pyplot.imshow(np.angle(field))\n",
    "pyplot.colorbar()\n",
    "\n",
    "pyplot.subplot(3, 2, 3)\n",
    "pyplot.title(\"poppy amplitude\")\n",
    "pyplot.imshow(np.abs(p_wavefront.wavefront))\n",
    "pyplot.colorbar()\n",
    "\n",
    "pyplot.subplot(3, 2, 4)\n",
    "pyplot.title(\"poppy phase\")\n",
    "pyplot.imshow(np.angle(p_wavefront.wavefront))\n",
    "pyplot.colorbar()"
   ]
  },
  {
   "cell_type": "code",
   "execution_count": null,
   "id": "5ceeb90f",
   "metadata": {},
   "outputs": [],
   "source": [
    "propagator = GaussianPropagator(5000.)"
   ]
  },
  {
   "cell_type": "code",
   "execution_count": null,
   "id": "fef76376",
   "metadata": {},
   "outputs": [],
   "source": [
    "out = propagator._plane_to_plane(wavefront, propagator.distance)"
   ]
  },
  {
   "cell_type": "code",
   "execution_count": null,
   "id": "c7c93433",
   "metadata": {},
   "outputs": [],
   "source": [
    "field = wavefront.get_complex_form()"
   ]
  },
  {
   "cell_type": "code",
   "execution_count": null,
   "id": "8ebd8827",
   "metadata": {},
   "outputs": [],
   "source": [
    "pyplot.figure(figsize=(10, 5))\n",
    "pyplot.subplot(1, 2, 1)\n",
    "pyplot.imshow(out.amplitude)\n",
    "pyplot.colorbar()\n",
    "pyplot.subplot(1, 2, 2)\n",
    "pyplot.imshow(-out.phase)\n",
    "pyplot.colorbar()"
   ]
  },
  {
   "cell_type": "code",
   "execution_count": null,
   "id": "519e9df4",
   "metadata": {},
   "outputs": [],
   "source": [
    "p_wavefront.propagate_fresnel(-5000 * meter)\n",
    "out = p_wavefront.wavefront"
   ]
  },
  {
   "cell_type": "code",
   "execution_count": null,
   "id": "5ac2985e",
   "metadata": {},
   "outputs": [],
   "source": [
    "pyplot.figure(figsize=(10, 5))\n",
    "pyplot.subplot(1, 2, 1)\n",
    "pyplot.imshow(np.abs(out))\n",
    "pyplot.colorbar()\n",
    "pyplot.subplot(1, 2, 2)\n",
    "pyplot.imshow(np.angle(out))\n",
    "pyplot.colorbar()"
   ]
  },
  {
   "cell_type": "code",
   "execution_count": null,
   "id": "2093f8b1",
   "metadata": {},
   "outputs": [],
   "source": []
  }
 ],
 "metadata": {
  "kernelspec": {
   "display_name": "Python (dLux)",
   "language": "python",
   "name": "dlux"
  },
  "language_info": {
   "codemirror_mode": {
    "name": "ipython",
    "version": 3
   },
   "file_extension": ".py",
   "mimetype": "text/x-python",
   "name": "python",
   "nbconvert_exporter": "python",
   "pygments_lexer": "ipython3",
   "version": "3.10.4"
  }
 },
 "nbformat": 4,
 "nbformat_minor": 5
}
